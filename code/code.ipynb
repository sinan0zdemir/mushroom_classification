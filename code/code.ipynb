{
 "cells": [
  {
   "cell_type": "markdown",
   "id": "6eef2da8",
   "metadata": {},
   "source": [
    "# Dependencies\n"
   ]
  },
  {
   "cell_type": "code",
   "execution_count": null,
   "id": "a4a70a75",
   "metadata": {},
   "outputs": [],
   "source": [
    "!pip install tensorflow opencv-python matplotlib"
   ]
  },
  {
   "cell_type": "code",
   "execution_count": 2,
   "id": "e0ef27e7",
   "metadata": {},
   "outputs": [],
   "source": [
    "import tensorflow as tf\n",
    "import os"
   ]
  },
  {
   "cell_type": "markdown",
   "id": "35e036f5",
   "metadata": {},
   "source": [
    "## Data Preprocessing\n"
   ]
  },
  {
   "cell_type": "code",
   "execution_count": null,
   "id": "e1739ff8",
   "metadata": {},
   "outputs": [
    {
     "ename": "ModuleNotFoundError",
     "evalue": "No module named 'tf'",
     "output_type": "error",
     "traceback": [
      "\u001b[31m---------------------------------------------------------------------------\u001b[39m",
      "\u001b[31mModuleNotFoundError\u001b[39m                       Traceback (most recent call last)",
      "\u001b[36mCell\u001b[39m\u001b[36m \u001b[39m\u001b[32mIn[8]\u001b[39m\u001b[32m, line 79\u001b[39m\n\u001b[32m     76\u001b[39m batch_size = \u001b[32m32\u001b[39m\n\u001b[32m     77\u001b[39m seed = \u001b[32m123\u001b[39m\n\u001b[32m---> \u001b[39m\u001b[32m79\u001b[39m train_ds, val_ds = \u001b[43mload_datasets\u001b[49m\u001b[43m(\u001b[49m\u001b[43mdata_dir\u001b[49m\u001b[43m,\u001b[49m\u001b[43m \u001b[49m\u001b[43mimg_size\u001b[49m\u001b[43m,\u001b[49m\u001b[43m \u001b[49m\u001b[43mbatch_size\u001b[49m\u001b[43m,\u001b[49m\u001b[43m \u001b[49m\u001b[43mseed\u001b[49m\u001b[43m)\u001b[49m\n\u001b[32m     81\u001b[39m num_classes = \u001b[38;5;28mlen\u001b[39m(train_ds.class_names)\n\u001b[32m     82\u001b[39m input_shape = img_size + (\u001b[32m3\u001b[39m,)\n",
      "\u001b[36mCell\u001b[39m\u001b[36m \u001b[39m\u001b[32mIn[8]\u001b[39m\u001b[32m, line 10\u001b[39m, in \u001b[36mload_datasets\u001b[39m\u001b[34m(data_dir, img_size, batch_size, seed, val_split)\u001b[39m\n\u001b[32m      9\u001b[39m \u001b[38;5;28;01mdef\u001b[39;00m\u001b[38;5;250m \u001b[39m\u001b[34mload_datasets\u001b[39m(data_dir, img_size=(\u001b[32m224\u001b[39m, \u001b[32m224\u001b[39m), batch_size=\u001b[32m32\u001b[39m, seed=\u001b[32m123\u001b[39m, val_split=\u001b[32m0.2\u001b[39m):\n\u001b[32m---> \u001b[39m\u001b[32m10\u001b[39m     \u001b[38;5;28;01mfrom\u001b[39;00m\u001b[38;5;250m \u001b[39m\u001b[34;01mtf\u001b[39;00m\u001b[34;01m.\u001b[39;00m\u001b[34;01mkeras\u001b[39;00m\u001b[34;01m.\u001b[39;00m\u001b[34;01mutils\u001b[39;00m\u001b[38;5;250m \u001b[39m\u001b[38;5;28;01mimport\u001b[39;00m image_dataset_from_directory\n\u001b[32m     12\u001b[39m     train_ds = image_dataset_from_directory(\n\u001b[32m     13\u001b[39m         data_dir,\n\u001b[32m     14\u001b[39m         validation_split=val_split,\n\u001b[32m   (...)\u001b[39m\u001b[32m     18\u001b[39m         batch_size=batch_size\n\u001b[32m     19\u001b[39m     )\n\u001b[32m     21\u001b[39m     val_ds = image_dataset_from_directory(\n\u001b[32m     22\u001b[39m         data_dir,\n\u001b[32m     23\u001b[39m         validation_split=val_split,\n\u001b[32m   (...)\u001b[39m\u001b[32m     27\u001b[39m         batch_size=batch_size\n\u001b[32m     28\u001b[39m     )\n",
      "\u001b[31mModuleNotFoundError\u001b[39m: No module named 'tf'"
     ]
    }
   ],
   "source": [
    "data_dir = '../MO_106/MO_106'\n",
    "os.listdir(data_dir)\n",
    "# ...existing code...\n",
    "\n",
    "import tensorflow as tf\n",
    "import os\n",
    "import matplotlib.pyplot as plt\n",
    "\n",
    "def load_datasets(data_dir, img_size=(224, 224), batch_size=32, seed=123, val_split=0.2):\n",
    "\n",
    "    train_ds = tf.keras.utils.image_dataset_from_directory(\n",
    "        data_dir,\n",
    "        validation_split=val_split,\n",
    "        subset=\"training\",\n",
    "        seed=seed,\n",
    "        image_size=img_size,\n",
    "        batch_size=batch_size\n",
    "    )\n",
    "\n",
    "    val_ds = tf.keras.utils.image_dataset_from_directory(\n",
    "        data_dir,\n",
    "        validation_split=val_split,\n",
    "        subset=\"validation\",\n",
    "        seed=seed,\n",
    "        image_size=img_size,\n",
    "        batch_size=batch_size\n",
    "    )\n",
    "    return train_ds, val_ds\n",
    "\n",
    "def build_model(input_shape, num_classes):\n",
    "    model = tf.keras.Sequential([\n",
    "        tf.keras.layers.Rescaling(1./255, input_shape=input_shape),\n",
    "        tf.keras.layers.Conv2D(32, 3, activation='relu'),\n",
    "        tf.keras.layers.MaxPooling2D(),\n",
    "        tf.keras.layers.Conv2D(64, 3, activation='relu'),\n",
    "        tf.keras.layers.MaxPooling2D(),\n",
    "        tf.keras.layers.Conv2D(128, 3, activation='relu'),\n",
    "        tf.keras.layers.MaxPooling2D(),\n",
    "        tf.keras.layers.Flatten(),\n",
    "        tf.keras.layers.Dense(128, activation='relu'),\n",
    "        tf.keras.layers.Dense(num_classes, activation='softmax')\n",
    "    ])\n",
    "    model.compile(\n",
    "        optimizer='adam',\n",
    "        loss='sparse_categorical_crossentropy',\n",
    "        metrics=['accuracy']\n",
    "    )\n",
    "    return model\n",
    "\n",
    "def train_model(model, train_ds, val_ds, epochs=10):\n",
    "    history = model.fit(\n",
    "        train_ds,\n",
    "        validation_data=val_ds,\n",
    "        epochs=epochs\n",
    "    )\n",
    "    return history\n",
    "\n",
    "def save_model(model, path='mushroom_model.h5'):\n",
    "    model.save(path)\n",
    "\n",
    "def plot_loss(history):\n",
    "    plt.figure(figsize=(8, 5))\n",
    "    plt.plot(history.history['loss'], label='Training Loss')\n",
    "    plt.plot(history.history['val_loss'], label='Validation Loss')\n",
    "    plt.xlabel('Epoch')\n",
    "    plt.ylabel('Loss')\n",
    "    plt.legend()\n",
    "    plt.title('Loss Curves')\n",
    "    plt.show()\n",
    "\n",
    "# --- Main workflow ---\n",
    "\n",
    "data_dir = '../MO_106/MO_106'\n",
    "img_size = (224, 224)\n",
    "batch_size = 32\n",
    "seed = 123\n",
    "\n",
    "train_ds, val_ds = load_datasets(data_dir, img_size, batch_size, seed)\n",
    "\n",
    "num_classes = len(train_ds.class_names)\n",
    "input_shape = img_size + (3,)\n",
    "\n",
    "model = build_model(input_shape, num_classes)\n",
    "history = train_model(model, train_ds, val_ds, epochs=10)\n",
    "save_model(model, 'mushroom_model.h5')\n",
    "plot_loss(history)\n",
    "\n",
    "#"
   ]
  },
  {
   "cell_type": "code",
   "execution_count": null,
   "id": "797bbd15",
   "metadata": {},
   "outputs": [],
   "source": []
  },
  {
   "cell_type": "code",
   "execution_count": null,
   "id": "12f52a93",
   "metadata": {},
   "outputs": [],
   "source": []
  }
 ],
 "metadata": {
  "kernelspec": {
   "display_name": "Python 3",
   "language": "python",
   "name": "python3"
  },
  "language_info": {
   "codemirror_mode": {
    "name": "ipython",
    "version": 3
   },
   "file_extension": ".py",
   "mimetype": "text/x-python",
   "name": "python",
   "nbconvert_exporter": "python",
   "pygments_lexer": "ipython3",
   "version": "3.12.4"
  }
 },
 "nbformat": 4,
 "nbformat_minor": 5
}
